{
 "cells": [
  {
   "cell_type": "code",
   "execution_count": 1,
   "metadata": {},
   "outputs": [],
   "source": [
    "import numpy as np "
   ]
  },
  {
   "cell_type": "code",
   "execution_count": 197,
   "metadata": {},
   "outputs": [],
   "source": [
    "class Kernel(object):\n",
    "    def __init__(self, theta=[], seed=42):\n",
    "        np.random.seed(seed)\n",
    "        if len(theta) != 4:\n",
    "            self.theta = np.random.randn(4)  \n",
    "        else:\n",
    "            self.theta = np.array(theta)  \n",
    "    \n",
    "    def make_kernel(self, X):\n",
    "        \"\"\"\n",
    "        inputs : \n",
    "            X : 2d-array. shape=[N, d].\n",
    "        returns : \n",
    "            K : 2d-array. shape=[N,N]. \n",
    "                The matrix that represents covariance.\n",
    "        \"\"\"\n",
    "        N = X.shape[0] \n",
    "        \n",
    "        # make kernel matrix \n",
    "        K = np.zeros(shape=[N,N],dtype=float)\n",
    "        for i in range(N):\n",
    "            for j in range(N):\n",
    "                K[i,j] = self._kernel(X[i], X[j], i, j)  \n",
    "        return K \n",
    "                \n",
    "    def _kernel(self, x, x_, n=0, n_=1):\n",
    "        \"\"\"\n",
    "        inputs : \n",
    "            x : 1d-array. shape=[d]\n",
    "            x_ : 1d-array. shape=[d]\n",
    "            n, n_ : the index of data.\n",
    "        returns: \n",
    "            k : scaler.\n",
    "        \"\"\"\n",
    "        k_1 = self.theta[0] * np.exp(- np.sum((x - x_)**2) / self.theta[1]) \n",
    "        k_2 = self.theta[2] * np.sum((x - x_)**2)  \n",
    "        k_3 = self.theta[3] * (n==n_) # delta function \n",
    "        return k_1 + k_2 + k_3 \n",
    "    \n",
    "    def part_k(self, x, x_, n, n_):\n",
    "        \"\"\"\n",
    "        inputs: \n",
    "           x, x_ : 1d-array. shape=[d]\n",
    "           n, n_ : the index of data\n",
    "        returns: \n",
    "            dk : 1d-array. shape=[4].\n",
    "                the result of dk/dθ\n",
    "        \"\"\"\n",
    "        dk = np.zeros(4)\n",
    "        dk[0] =  np.exp(- np.sum((x - x_)**2) / self.theta[1])   \n",
    "        dk[1] = self.theta[0] * np.sum((x-x_)**2) / self.theta[1]**2 * np.exp(- np.sum((x - x_)**2) / self.theta[1])  \n",
    "        dk[2] = np.sum((x - x_)**2)\n",
    "        dk[3] = 1.0 * (n==n_)  # delta function\n",
    "        return dk \n",
    "    \n",
    "    def part_K(self, X):\n",
    "        \"\"\"\n",
    "        inputs: \n",
    "           X : 2d-array. shape=[N, d].\n",
    "        returns: \n",
    "           dK :3d-array. shape=[4, N, N,].\n",
    "               the result of dK/dθ\n",
    "        \"\"\"\n",
    "        N = X.shape[0]\n",
    "        dK = np.zeros(shape=[N, N, 4])\n",
    "        for i in range(N):\n",
    "            for j in range(N):\n",
    "                dK[i, j] =self. part_k(X[i], X[j], i, j)\n",
    "        dK = dK.transpose(2, 0, 1)\n",
    "        return dK\n",
    "    \n",
    "    def make_k_star(self, X, X_star):\n",
    "        \"\"\"\n",
    "        inputs: \n",
    "            X : 2d-array.  The known values\n",
    "            X_star: 2d-array. shape=[M,d]. The unkonwn values.\n",
    "        returns: \n",
    "            k_star: 2d-array. shape=[N, M]\n",
    "        \"\"\"\n",
    "        N = X.shape[0]\n",
    "        M = X_star.shape[0]\n",
    "        k_star = np.zeros((N, M))\n",
    "        for i in range(N):\n",
    "            for j in range(M):\n",
    "                k_star[i,j] = self._kernel(X[i], X_star[j])\n",
    "        return k_star \n",
    "        \n",
    "                \n",
    "        \n",
    "            "
   ]
  },
  {
   "cell_type": "code",
   "execution_count": 312,
   "metadata": {},
   "outputs": [],
   "source": [
    "class GPRegression(object):\n",
    "    \n",
    "    def __init__(self,kernel, thetas=[]):\n",
    "        \"\"\"\n",
    "        inputs: \n",
    "            kernel : the class for kernel.\n",
    "        \"\"\"\n",
    "        self.kernel = kernel(thetas)\n",
    "        \n",
    "    def fit(self, X, y, num_iter=10, eta=0.1):\n",
    "        \"\"\"\n",
    "        In this process, optimize the hyper parameters.\n",
    "        inputs: \n",
    "            X : 2d-array. shape=[N, d]\n",
    "                The explanatory variables.\n",
    "            y : 1d-array. shape=[N]\n",
    "                The objective variables.\n",
    "        returns: \n",
    "            None\n",
    "        \"\"\"\n",
    "        self.X = X  \n",
    "        self.y = y \n",
    "        \n",
    "        # optimize thetas \n",
    "        for i in range(num_iter):\n",
    "            dl = self.part_l() \n",
    "            self.kernel.theta += eta * dl  \n",
    "        self.K = self.kernel.make_kernel(X) # kernel_matrix for predict to use for predicting value.\n",
    "            \n",
    "    def part_l(self):\n",
    "        N = self.X.shape[0]\n",
    "        k_theta = self.kernel.make_kernel(self.X)\n",
    "        k_theta_inv = np.linalg.inv(k_theta)\n",
    "        dk_dtheta = self.kernel.part_K(self.X)\n",
    "        dl_1 = - np.trace(np.dot(dk_dtheta, k_theta_inv), axis1=1, axis2=2)\n",
    "        dl_2_1 = (np.dot(k_theta_inv,y.reshape(-1,1))) \n",
    "        dl_2 = np.dot(np.dot(dl_2_1.T, dk_dtheta).reshape(4,N), dl_2_1) # -> [4,1]\n",
    "        dl_2 = dl_2.flatten()\n",
    "        return dl_1 + dl_2\n",
    "    \n",
    "    def predict(self, X_star):\n",
    "        k_star = self.kernel.make_k_star(self.X, X_star)\n",
    "        k_dstar = self.kernel.make_kernel(X_star)  \n",
    "        K_inv = np.linalg.inv(self.K)\n",
    "        m = np.dot(np.dot(k_star.T, K_inv), self.y.reshape(-1,1))\n",
    "        v = k_dstar - np.dot(np.dot(k_star.T, K_inv), k_star)\n",
    "        return m, v"
   ]
  },
  {
   "cell_type": "code",
   "execution_count": 354,
   "metadata": {},
   "outputs": [],
   "source": [
    "gpr = GPRegression(Kernel, [1.0, 1.0, 1.0, 1.0])  "
   ]
  },
  {
   "cell_type": "code",
   "execution_count": 359,
   "metadata": {},
   "outputs": [],
   "source": [
    "def truef(X):\n",
    "    return np.exp(X-2.0) + 1.2"
   ]
  },
  {
   "cell_type": "code",
   "execution_count": 360,
   "metadata": {},
   "outputs": [],
   "source": [
    "X = np.random.uniform(-3, 3, size=[40, 1])\n",
    "y = truef(X)  + 0.2*np.random.randn(40,1)"
   ]
  },
  {
   "cell_type": "code",
   "execution_count": 361,
   "metadata": {},
   "outputs": [],
   "source": [
    "import matplotlib.pyplot as plt \n",
    "%matplotlib inline "
   ]
  },
  {
   "cell_type": "code",
   "execution_count": 362,
   "metadata": {},
   "outputs": [],
   "source": [
    "gpr.fit(X,y,num_iter=20, eta=0.05)"
   ]
  },
  {
   "cell_type": "code",
   "execution_count": 363,
   "metadata": {},
   "outputs": [
    {
     "name": "stdout",
     "output_type": "stream",
     "text": [
      "[472.6383122  457.58890662 445.23635319 435.28985903 427.4704101\n",
      " 421.51134086 417.15892807 414.17300139 412.32756352 411.4114103\n",
      " 411.22874398 411.59977065 412.36127419 413.36715904 414.48895447\n",
      " 415.61627349 416.65722036 417.5387411  418.20691218 418.62716365\n",
      " 418.78443348 418.6832512  418.34774958 417.82160426 417.16790211\n",
      " 416.46894023 415.82595813 415.35880702 415.20556043 415.52207148\n",
      " 416.48148314 418.27369757 421.10481185 425.19652797 430.78554448\n",
      " 438.12293821 447.47354402 459.11534095 473.33885263 490.44656952]\n"
     ]
    }
   ],
   "source": [
    "X_star = np.linspace(-3, 3, 40).reshape(-1,1)\n",
    "m, v = gpr.predict(X_star)\n",
    "m = m.flatten()\n",
    "print(np.diag(v))\n",
    "v = np.diag(np.abs(v))"
   ]
  },
  {
   "cell_type": "code",
   "execution_count": 364,
   "metadata": {},
   "outputs": [
    {
     "data": {
      "text/plain": [
       "((40, 1), (40,), (40,))"
      ]
     },
     "execution_count": 364,
     "metadata": {},
     "output_type": "execute_result"
    }
   ],
   "source": [
    "X_star.shape, m.shape, v.shape"
   ]
  },
  {
   "cell_type": "code",
   "execution_count": 365,
   "metadata": {},
   "outputs": [
    {
     "data": {
      "text/plain": [
       "array([472.6383122 , 457.58890662, 445.23635319, 435.28985903,\n",
       "       427.4704101 , 421.51134086, 417.15892807, 414.17300139,\n",
       "       412.32756352, 411.4114103 , 411.22874398, 411.59977065,\n",
       "       412.36127419, 413.36715904, 414.48895447, 415.61627349,\n",
       "       416.65722036, 417.5387411 , 418.20691218, 418.62716365,\n",
       "       418.78443348, 418.6832512 , 418.34774958, 417.82160426,\n",
       "       417.16790211, 416.46894023, 415.82595813, 415.35880702,\n",
       "       415.20556043, 415.52207148, 416.48148314, 418.27369757,\n",
       "       421.10481185, 425.19652797, 430.78554448, 438.12293821,\n",
       "       447.47354402, 459.11534095, 473.33885263, 490.44656952])"
      ]
     },
     "execution_count": 365,
     "metadata": {},
     "output_type": "execute_result"
    }
   ],
   "source": [
    "v"
   ]
  },
  {
   "cell_type": "code",
   "execution_count": 366,
   "metadata": {},
   "outputs": [
    {
     "data": {
      "image/png": "[encoded data removed]",
      "text/plain": [
       "<Figure size 864x576 with 1 Axes>"
      ]
     },
     "metadata": {
      "needs_background": "light"
     },
     "output_type": "display_data"
    }
   ],
   "source": [
    "plt.figure(figsize=(12,8))\n",
    "plt.title('The result')\n",
    "plt.fill_between(X_star.flatten(), m-np.sqrt(v), m +np.sqrt(v))\n",
    "plt.plot(X_star.flatten(), m , color='red', label='predicted_mean')\n",
    "plt.scatter(X.flatten(), y.flatten(), label='traindata')\n",
    "plt.plot(X_star.flatten(), truef(X_star.flatten()), label='true_label', color='purple')\n",
    "plt.legend()\n",
    "plt.grid()\n",
    "plt.savefig('./results.png')"
   ]
  },
  {
   "cell_type": "code",
   "execution_count": 367,
   "metadata": {},
   "outputs": [
    {
     "data": {
      "image/png": "[encoded data removed]",
      "text/plain": [
       "<Figure size 432x288 with 1 Axes>"
      ]
     },
     "metadata": {
      "needs_background": "light"
     },
     "output_type": "display_data"
    }
   ],
   "source": [
    "plt.plot(X_star.flatten(), truef(X_star.flatten()), label='true_label', color='purple')\n",
    "plt.grid()\n",
    "plt.legend()\n",
    "plt.xlabel('x')\n",
    "plt.ylabel('y')\n",
    "plt.title('The true function')\n",
    "plt.savefig(\"./true_func.png\")"
   ]
  },
  {
   "cell_type": "code",
   "execution_count": 171,
   "metadata": {},
   "outputs": [
    {
     "data": {
      "text/plain": [
       "(1, 4, 10)"
      ]
     },
     "execution_count": 171,
     "metadata": {},
     "output_type": "execute_result"
    }
   ],
   "source": [
    "a = np.random.randn(1, 10)\n",
    "b = np.random.randn(4,10,10)\n",
    "np.dot(a,b).shape"
   ]
  },
  {
   "cell_type": "code",
   "execution_count": 96,
   "metadata": {},
   "outputs": [
    {
     "data": {
      "text/plain": [
       "array([[-0.54438272,  0.11092259, -1.15099358],\n",
       "       [-0.54438272,  0.11092259, -1.15099358]])"
      ]
     },
     "execution_count": 96,
     "metadata": {},
     "output_type": "execute_result"
    }
   ],
   "source": [
    "a = np.random.randn(3)\n",
    "np.tile(a, [2,1])"
   ]
  },
  {
   "cell_type": "code",
   "execution_count": null,
   "metadata": {},
   "outputs": [],
   "source": []
  }
 ],
 "metadata": {
  "kernelspec": {
   "display_name": "Python 3",
   "language": "python",
   "name": "python3"
  },
  "language_info": {
   "codemirror_mode": {
    "name": "ipython",
    "version": 3
   },
   "file_extension": ".py",
   "mimetype": "text/x-python",
   "name": "python",
   "nbconvert_exporter": "python",
   "pygments_lexer": "ipython3",
   "version": "3.7.3"
  }
 },
 "nbformat": 4,
 "nbformat_minor": 2
}
