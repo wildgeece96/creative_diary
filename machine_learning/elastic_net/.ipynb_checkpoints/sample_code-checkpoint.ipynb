{
 "cells": [
  {
   "cell_type": "code",
   "execution_count": 1,
   "metadata": {},
   "outputs": [],
   "source": [
    "# 必要モジュールのインポート\n",
    "import numpy as np \n",
    "import matplotlib.pyplot as plt\n",
    "\n",
    "from sklearn.metrics import r2_score"
   ]
  },
  {
   "cell_type": "code",
   "execution_count": 2,
   "metadata": {},
   "outputs": [],
   "source": [
    "# データを準備する\n",
    "np.random.seed(42) # シードの設定(再現性の確保)  \n",
    "\n",
    "n_samples, n_features = 50, 200 # データ数:50, 特徴量数 : 200\n",
    "X = np.random.randn(n_samples, n_features) # 正規分布に従った乱数生成\n",
    "# 正解のモデルとなる係数(これも乱数で生成)\n",
    "coef = 3 * np.random.randn(n_features) \n",
    "inds = np.arange(n_features)  \n",
    "#  スパース性を作るために一部の係数を0に\n",
    "coef[inds[10:]] = 0 \n",
    "np.random.shuffle(inds) # indsの中身をシャッフル"
   ]
  },
  {
   "cell_type": "code",
   "execution_count": 3,
   "metadata": {},
   "outputs": [],
   "source": [
    "y = np.dot(X, coef) # 教師データの作成\n",
    "# 正規分布の乱数でノイズを加える\n",
    "y += 0.01 * np.random.normal(size=n_samples) "
   ]
  },
  {
   "cell_type": "code",
   "execution_count": null,
   "metadata": {},
   "outputs": [],
   "source": []
  }
 ],
 "metadata": {
  "kernelspec": {
   "display_name": "Python 3",
   "language": "python",
   "name": "python3"
  },
  "language_info": {
   "codemirror_mode": {
    "name": "ipython",
    "version": 3
   },
   "file_extension": ".py",
   "mimetype": "text/x-python",
   "name": "python",
   "nbconvert_exporter": "python",
   "pygments_lexer": "ipython3",
   "version": "3.6.2"
  }
 },
 "nbformat": 4,
 "nbformat_minor": 2
}
