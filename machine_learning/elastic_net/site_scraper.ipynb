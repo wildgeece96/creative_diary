{
 "cells": [
  {
   "cell_type": "markdown",
   "metadata": {},
   "source": [
    "## Twitterカードの申請\n",
    "すごく雑だけど、とりあえずこれでなんとかなる。"
   ]
  },
  {
   "cell_type": "code",
   "execution_count": 31,
   "metadata": {},
   "outputs": [
    {
     "name": "stdout",
     "output_type": "stream",
     "text": [
      "https://leck-tech.com/\n",
      "https://leck-tech.com\n",
      "https://leck-tech.com/sitemap\n",
      "https://leck-tech.com/blog\n",
      "https://leck-tech.com/category/machine-learning\n",
      "https://leck-tech.com/category/ubuntu\n",
      "https://leck-tech.com/\n",
      "https://leck-tech.com/demo-portfolio\n",
      "https://leck-tech.com/cart\n",
      "https://leck-tech.com/sitemap\n",
      "https://leck-tech.com/shop\n",
      "https://leck-tech.com/my-account\n",
      "https://leck-tech.com/checkout\n",
      "https://leck-tech.com/profile\n",
      "https://leck-tech.com/blog\n",
      "https://leck-tech.com/category/css\n",
      "https://leck-tech.com/css/css%e3%81%aemargin%e3%81%a8padding%e3%81%a8%e3%81%ae%e9%81%95%e3%81%84\n",
      "https://leck-tech.com/css/clear\n",
      "https://leck-tech.com/category/docker\n",
      "https://leck-tech.com/docker/docker-host-ip\n",
      "https://leck-tech.com/docker/mysql-import\n",
      "https://leck-tech.com/docker/docker-install-mac\n",
      "https://leck-tech.com/docker/docker-mysql\n",
      "https://leck-tech.com/category/docker/mysql\n",
      "https://leck-tech.com/docker/docker-host-ip\n",
      "https://leck-tech.com/docker/mysql-import\n",
      "https://leck-tech.com/category/html\n",
      "https://leck-tech.com/html/html-cheatsheat\n",
      "https://leck-tech.com/html/p-br\n",
      "https://leck-tech.com/html/emphasise-html\n",
      "https://leck-tech.com/category/javascript\n",
      "https://leck-tech.com/javascript/data-type\n",
      "https://leck-tech.com/javascript/select_several\n",
      "https://leck-tech.com/javascript/html_insert_javascript\n",
      "https://leck-tech.com/category/python\n",
      "https://leck-tech.com/python/jupyter-remote-ssh\n",
      "https://leck-tech.com/python/virtualenv-jupyternotebook\n",
      "https://leck-tech.com/python/receipt_to_recipe\n",
      "https://leck-tech.com/category/python/%e5%89%b5%e4%bd%9c\n",
      "https://leck-tech.com/python/receipt_to_recipe\n",
      "https://leck-tech.com/category/ubuntu\n",
      "https://leck-tech.com/python/jupyter-remote-ssh\n",
      "https://leck-tech.com/ubuntu/ubuntu-server-network\n",
      "https://leck-tech.com/ubuntu/ubuntu-server-port-num-change\n",
      "https://leck-tech.com/ubuntu/ubuntu-server-nvidia-docker\n",
      "https://leck-tech.com/category/study-log\n",
      "https://leck-tech.com/study-log/log-40\n",
      "https://leck-tech.com/study-log/log-39\n",
      "https://leck-tech.com/study-log/log-38\n",
      "https://leck-tech.com/study-log/log-37\n",
      "https://leck-tech.com/study-log/log-36\n",
      "https://leck-tech.com/study-log/log-35\n",
      "https://leck-tech.com/study-log/log-34\n",
      "https://leck-tech.com/study-log/log-33\n",
      "https://leck-tech.com/study-log/log-32\n",
      "https://leck-tech.com/study-log/log-31\n",
      "https://leck-tech.com/study-log/log-30\n",
      "https://leck-tech.com/study-log/log-29\n",
      "https://leck-tech.com/study-log/log-28\n",
      "https://leck-tech.com/study-log/log-27\n",
      "https://leck-tech.com/study-log/log-26\n",
      "https://leck-tech.com/study-log/log-25\n",
      "https://leck-tech.com/study-log/log-24\n",
      "https://leck-tech.com/study-log/log-23\n",
      "https://leck-tech.com/study-log/log-22\n",
      "https://leck-tech.com/study-log/log-21\n",
      "https://leck-tech.com/study-log/log-20\n",
      "https://leck-tech.com/study-log/log-19\n",
      "https://leck-tech.com/study-log/log-18\n",
      "https://leck-tech.com/study-log/log-17\n",
      "https://leck-tech.com/study-log/log-16\n",
      "https://leck-tech.com/study-log/log-15\n",
      "https://leck-tech.com/study-log/log-14\n",
      "https://leck-tech.com/study-log/log-13\n",
      "https://leck-tech.com/study-log/log-12\n",
      "https://leck-tech.com/study-log/log-11\n",
      "https://leck-tech.com/study-log/log-10\n",
      "https://leck-tech.com/study-log/log-09\n",
      "https://leck-tech.com/study-log/log-08\n",
      "https://leck-tech.com/study-log/log-07\n",
      "https://leck-tech.com/study-log/log-06\n",
      "https://leck-tech.com/study-log/log-05\n",
      "https://leck-tech.com/study-log/log-04\n",
      "https://leck-tech.com/study-log/log-03\n",
      "https://leck-tech.com/study-log/log-02\n",
      "https://leck-tech.com/study-log/progate%e3%82%92%e5%a7%8b%e3%82%81%e3%81%a6%e3%81%bf%e3%81%9f\n",
      "https://leck-tech.com/category/machine-learning\n",
      "https://leck-tech.com/machine-learning/elastic-net\n",
      "https://leck-tech.com/machine-learning/ridge-lasso-sklearn\n",
      "https://leck-tech.com/machine-learning/ols-sklearn\n",
      "https://leck-tech.com/machine-learning/lstm-music-classify\n",
      "https://leck-tech.com/machine-learning/atari_rl\n",
      "https://leck-tech.com/machine-learning/svm\n",
      "https://leck-tech.com/machine-learning/r-cnn\n",
      "https://leck-tech.com/machine-learning/segnet\n",
      "https://leck-tech.com/machine-learning/u-net\n",
      "https://leck-tech.com/machine-learning/forest-cover-type-02\n",
      "https://leck-tech.com/machine-learning/kaggle-forest-cover-type-1\n",
      "https://leck-tech.com/category/machine-learning/kaggle\n",
      "https://leck-tech.com/machine-learning/forest-cover-type-02\n",
      "https://leck-tech.com/machine-learning/kaggle-forest-cover-type-1\n",
      "https://leck-tech.com/category/machine-learning/%e3%82%a2%e3%83%ab%e3%82%b4%e3%83%aa%e3%82%ba%e3%83%a0\n",
      "https://leck-tech.com/machine-learning/elastic-net\n",
      "https://leck-tech.com/machine-learning/ridge-lasso-sklearn\n",
      "https://leck-tech.com/machine-learning/ols-sklearn\n",
      "https://leck-tech.com/machine-learning/svm\n",
      "https://leck-tech.com/category/machine-learning/%e5%bc%b7%e5%8c%96%e5%ad%a6%e7%bf%92\n",
      "https://leck-tech.com/machine-learning/atari_rl\n",
      "https://leck-tech.com/category/css\n",
      "https://leck-tech.com/category/docker\n",
      "https://leck-tech.com/category/docker/mysql\n",
      "https://leck-tech.com/category/html\n",
      "https://leck-tech.com/category/javascript\n",
      "https://leck-tech.com/category/python\n",
      "https://leck-tech.com/category/python/%e5%89%b5%e4%bd%9c\n",
      "https://leck-tech.com/category/ubuntu\n",
      "https://leck-tech.com/category/study-log\n",
      "https://leck-tech.com/category/machine-learning\n",
      "https://leck-tech.com/category/machine-learning/kaggle\n",
      "https://leck-tech.com/category/machine-learning/%e3%82%a2%e3%83%ab%e3%82%b4%e3%83%aa%e3%82%ba%e3%83%a0\n",
      "https://leck-tech.com/category/machine-learning/%e5%bc%b7%e5%8c%96%e5%ad%a6%e7%bf%92\n",
      "https://leck-tech.com/\n",
      "https://catchthemes.com/\n",
      "https://leck-tech.com\n",
      "https://leck-tech.com/sitemap\n",
      "https://leck-tech.com/blog\n",
      "https://leck-tech.com/category/machine-learning\n",
      "https://leck-tech.com/category/ubuntu\n"
     ]
    }
   ],
   "source": [
    "# urlの取得から\n",
    "from bs4 import BeautifulSoup\n",
    "import urllib.request as req\n",
    "\n",
    "# 指定のURLから全てのリンクを取得する処理\n",
    "url = \"https://leck-tech.com/sitemap\"\n",
    "res = req.urlopen(url)\n",
    "soup = BeautifulSoup(res, 'html.parser')\n",
    "url_items = soup.find_all('a')\n",
    "# print(\"a = \", url_items)\n",
    "\n",
    "url_list = [] \n",
    "for url in url_items:\n",
    "    res = url.get(\"href\")\n",
    "    if res[0] == \"#\":\n",
    "        continue\n",
    "    print(res)\n",
    "    url_list.append(res)\n",
    "\n",
    "    "
   ]
  },
  {
   "cell_type": "code",
   "execution_count": 63,
   "metadata": {},
   "outputs": [],
   "source": [
    "import time \n",
    "from selenium import webdriver \n",
    "driver = webdriver.Chrome()\n",
    "driver.get('https://cards-dev.twitter.com/validator')  \n",
    "time.sleep(5)\n"
   ]
  },
  {
   "cell_type": "markdown",
   "metadata": {},
   "source": [
    "## ここで手動でアカウントを入力"
   ]
  },
  {
   "cell_type": "code",
   "execution_count": 67,
   "metadata": {},
   "outputs": [],
   "source": [
    "from selenium.webdriver.common.by import By\n",
    "stats = driver.find_element(by=By.ID, value=\"ValidationForm\")  \n",
    "from selenium.webdriver.common.keys import Keys"
   ]
  },
  {
   "cell_type": "code",
   "execution_count": 69,
   "metadata": {},
   "outputs": [],
   "source": [
    "driver.get('https://cards-dev.twitter.com/validator')\n",
    "stats = driver.find_element(by=By.ID, value=\"ValidationForm\")\n",
    "list_stat = stats.find_elements_by_css_selector(\"input\")\n",
    "for url in url_list:\n",
    "    for stat in list_stat:\n",
    "        if stat.get_attribute('name') == 'url':\n",
    "            stat.clear()\n",
    "            stat.send_keys(url)\n",
    "            stat.send_keys(Keys.RETURN)\n",
    "            time.sleep(5)\n",
    "        if stat.get_attribute('value') == 'Preview card':\n",
    "            stat.click()\n",
    "            time.sleep(5)"
   ]
  },
  {
   "cell_type": "code",
   "execution_count": 48,
   "metadata": {},
   "outputs": [
    {
     "data": {
      "text/plain": [
       "[<selenium.webdriver.remote.webelement.WebElement (session=\"a915c6d0169a690db580441d65534583\", element=\"0.957526321335634-2\")>,\n",
       " <selenium.webdriver.remote.webelement.WebElement (session=\"a915c6d0169a690db580441d65534583\", element=\"0.957526321335634-3\")>,\n",
       " <selenium.webdriver.remote.webelement.WebElement (session=\"a915c6d0169a690db580441d65534583\", element=\"0.957526321335634-4\")>,\n",
       " <selenium.webdriver.remote.webelement.WebElement (session=\"a915c6d0169a690db580441d65534583\", element=\"0.957526321335634-5\")>]"
      ]
     },
     "execution_count": 48,
     "metadata": {},
     "output_type": "execute_result"
    }
   ],
   "source": []
  },
  {
   "cell_type": "code",
   "execution_count": null,
   "metadata": {},
   "outputs": [],
   "source": []
  }
 ],
 "metadata": {
  "kernelspec": {
   "display_name": "Python 3",
   "language": "python",
   "name": "python3"
  },
  "language_info": {
   "codemirror_mode": {
    "name": "ipython",
    "version": 3
   },
   "file_extension": ".py",
   "mimetype": "text/x-python",
   "name": "python",
   "nbconvert_exporter": "python",
   "pygments_lexer": "ipython3",
   "version": "3.6.2"
  }
 },
 "nbformat": 4,
 "nbformat_minor": 2
}
