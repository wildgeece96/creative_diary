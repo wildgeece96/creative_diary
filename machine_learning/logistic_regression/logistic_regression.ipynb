{
 "cells": [
  {
   "cell_type": "code",
   "execution_count": 1,
   "metadata": {},
   "outputs": [],
   "source": [
    "%matplotlib inline \n",
    "import matplotlib.pyplot as plt \n",
    "import numpy as np \n"
   ]
  },
  {
   "cell_type": "code",
   "execution_count": 2,
   "metadata": {},
   "outputs": [],
   "source": [
    "x = np.linspace(-5,5,100)\n",
    "def sigmoid(x):\n",
    "    return 1/(1+np.exp(-x))\n"
   ]
  },
  {
   "cell_type": "code",
   "execution_count": 12,
   "metadata": {},
   "outputs": [
    {
     "data": {
      "image/png": "[encoded data removed]",
      "text/plain": [
       "<Figure size 576x432 with 1 Axes>"
      ]
     },
     "metadata": {
      "needs_background": "light"
     },
     "output_type": "display_data"
    }
   ],
   "source": [
    "plt.figure(figsize=(8,6))\n",
    "plt.plot(x, sigmoid(x),label='sigmoid')\n",
    "plt.hlines([0.5], -5, 5, \"black\", linestyle='solid' )\n",
    "plt.xlabel('x')\n",
    "plt.grid()\n",
    "plt.ylim([0,1])\n",
    "plt.xlim([-5,5])\n",
    "plt.title('sigmoid')\n",
    "plt.savefig('sigmoid.png')"
   ]
  },
  {
   "cell_type": "code",
   "execution_count": 9,
   "metadata": {},
   "outputs": [
    {
     "data": {
      "text/plain": [
       "<matplotlib.collections.LineCollection at 0x117da53c8>"
      ]
     },
     "execution_count": 9,
     "metadata": {},
     "output_type": "execute_result"
    },
    {
     "data": {
      "image/png": "[encoded data removed]",
      "text/plain": [
       "<Figure size 432x288 with 1 Axes>"
      ]
     },
     "metadata": {
      "needs_background": "light"
     },
     "output_type": "display_data"
    }
   ],
   "source": [
    "plt.hlines([0], -5,5,'black', linestyle='solid')"
   ]
  },
  {
   "cell_type": "code",
   "execution_count": 1,
   "metadata": {},
   "outputs": [],
   "source": [
    "import numpy as np "
   ]
  },
  {
   "cell_type": "code",
   "execution_count": 33,
   "metadata": {},
   "outputs": [],
   "source": [
    "np.append?"
   ]
  },
  {
   "cell_type": "code",
   "execution_count": 39,
   "metadata": {},
   "outputs": [],
   "source": [
    "def sigmoid(x):\n",
    "    return 1./(1.+np.exp(-x))\n",
    "\n",
    "class LogisticRegression():\n",
    "    \n",
    "    def __init__(self, eta=0.1, num_iter=50):\n",
    "        self.eta = eta \n",
    "        self.num_iter = num_iter\n",
    "    \n",
    "    def fit(self, X, t):\n",
    "        \"\"\"\n",
    "        inputs: \n",
    "            X : 2-d array. shape: [N, d].\n",
    "                N : the number of data.  \n",
    "                d:  the number of features.\n",
    "            t : 1-d array. shape: [N].\n",
    "                the desired values\n",
    "        \"\"\"\n",
    "        n_features = X.shape[1]+1\n",
    "        X = np.append(X, np.ones(shape=[X.shape[0],1]),axis=1)\n",
    "        self.w = np.random.randn(1,n_features)\n",
    "        # predict the value\n",
    "        for i in range(self.num_iter):\n",
    "            y_hat = sigmoid(np.dot(X, self.w.reshape(-1,1)))  # --> [N, 1]\n",
    "            grad = self.calculate_grad(X, y_hat, t)\n",
    "            self.w -= self.eta * grad \n",
    "    \n",
    "    def calculate_grad(self, X, y_hat, t):\n",
    "        d_y_hat = 2*(y_hat - t.reshape(-1,1)) # -> [N, 1]\n",
    "        d_xomega = (1 - y_hat)* y_hat  # -> [N, 1]\n",
    "        d_omega = X # -> [N, d]\n",
    "        return np.dot((d_y_hat*d_xomega).T, d_omega) \n",
    "        \n",
    "    def pred(self, X):\n",
    "        X = np.append(X, np.ones(shape=[X.shape[0],1]),axis=1)\n",
    "        return sigmoid(np.dot(X, self.w.reshape(-1,1))).flatten()\n",
    "        \n",
    "        \n",
    "        \n",
    "        \n",
    "        \n",
    "        "
   ]
  },
  {
   "cell_type": "code",
   "execution_count": 72,
   "metadata": {},
   "outputs": [],
   "source": [
    "def truef(X):\n",
    "    return 1.5* X[:, 0] -  X[:, 1] -1.0\n"
   ]
  },
  {
   "cell_type": "code",
   "execution_count": 100,
   "metadata": {},
   "outputs": [],
   "source": [
    "X = np.random.randn(50, 2)\n",
    "t = np.where(truef(X)>0.0, 1.0, 0.0)\n",
    "logit = LogisticRegression(eta=1.0, num_iter=100)"
   ]
  },
  {
   "cell_type": "code",
   "execution_count": 101,
   "metadata": {},
   "outputs": [],
   "source": [
    "logit.fit(X, t)"
   ]
  },
  {
   "cell_type": "code",
   "execution_count": 102,
   "metadata": {},
   "outputs": [],
   "source": [
    "pred = logit.pred(X)"
   ]
  },
  {
   "cell_type": "code",
   "execution_count": 103,
   "metadata": {},
   "outputs": [
    {
     "data": {
      "text/plain": [
       "array([False,  True, False, False, False, False,  True, False, False,\n",
       "       False,  True, False, False, False,  True, False, False, False,\n",
       "       False, False,  True, False,  True, False, False, False,  True,\n",
       "       False,  True, False, False,  True, False, False, False, False,\n",
       "       False, False, False, False, False, False, False, False,  True,\n",
       "       False, False, False,  True, False])"
      ]
     },
     "execution_count": 103,
     "metadata": {},
     "output_type": "execute_result"
    }
   ],
   "source": [
    "pred>0.5"
   ]
  },
  {
   "cell_type": "code",
   "execution_count": 104,
   "metadata": {},
   "outputs": [
    {
     "data": {
      "text/plain": [
       "array([0., 1., 0., 0., 0., 0., 1., 0., 0., 0., 1., 0., 0., 0., 1., 0., 0.,\n",
       "       0., 0., 0., 1., 0., 1., 0., 0., 0., 1., 0., 1., 0., 0., 1., 0., 0.,\n",
       "       0., 0., 0., 0., 0., 0., 0., 0., 0., 0., 1., 0., 0., 0., 1., 0.])"
      ]
     },
     "execution_count": 104,
     "metadata": {},
     "output_type": "execute_result"
    }
   ],
   "source": [
    "t"
   ]
  },
  {
   "cell_type": "code",
   "execution_count": 105,
   "metadata": {},
   "outputs": [],
   "source": [
    "import matplotlib.pyplot as plt "
   ]
  },
  {
   "cell_type": "code",
   "execution_count": 126,
   "metadata": {},
   "outputs": [
    {
     "data": {
      "text/plain": [
       "array([[ 9.59791622, -5.9564076 , -5.47246126]])"
      ]
     },
     "execution_count": 126,
     "metadata": {},
     "output_type": "execute_result"
    }
   ],
   "source": [
    "logit.w"
   ]
  },
  {
   "cell_type": "code",
   "execution_count": 122,
   "metadata": {
    "scrolled": true
   },
   "outputs": [
    {
     "data": {
      "text/plain": [
       "array([1.57276452, 2.15483553, 0.56838539, 1.38822515, 0.10258675,\n",
       "       1.09902894, 0.37292234, 1.82587589, 0.69154821, 0.42656632,\n",
       "       1.58117513])"
      ]
     },
     "execution_count": 122,
     "metadata": {},
     "output_type": "execute_result"
    }
   ],
   "source": [
    "X[np.where(t==1)][:, 0]"
   ]
  },
  {
   "cell_type": "code",
   "execution_count": 125,
   "metadata": {},
   "outputs": [
    {
     "data": {
      "image/png": "[encoded data removed]",
      "text/plain": [
       "<Figure size 864x576 with 1 Axes>"
      ]
     },
     "metadata": {
      "needs_background": "light"
     },
     "output_type": "display_data"
    }
   ],
   "source": [
    "# 図を描くための準備\n",
    "seq = np.arange(-3, 3, 0.01)\n",
    "X_1, X_2 = np.meshgrid(seq, seq)\n",
    "X_1, X_2 = X_1.reshape(-1,1), X_2.reshape(-1,1)\n",
    "X_all = np.concatenate([X_1,X_2],axis=1)\n",
    "X_all = X_all.reshape(600,600, 2)\n",
    "zlist = np.zeros([600,600])\n",
    "for i in range(600):\n",
    "    zlist[i,:] = logit.pred(X_all[i, :, :])\n",
    "# 散布図と予測分布を描画\n",
    "\n",
    "plt.figure(figsize=(12,8))\n",
    "plt.imshow(zlist, extent=[-3,3,-3,3], origin='lower', cmap=plt.cm.PiYG_r)\n",
    "plt.scatter(X[np.where(t==1)][:, 0],X[np.where(t==1)][:, 1], color='red', label='positive')\n",
    "plt.scatter(X[np.where(t==0)][:, 0],X[np.where(t==0)][:, 1], color='blue', label='negative')\n",
    "plt.legend()  \n",
    "plt.show()"
   ]
  },
  {
   "cell_type": "code",
   "execution_count": 113,
   "metadata": {},
   "outputs": [
    {
     "data": {
      "text/plain": [
       "array([0.4024895 , 0.28296786])"
      ]
     },
     "execution_count": 113,
     "metadata": {},
     "output_type": "execute_result"
    }
   ],
   "source": [
    "X[3]"
   ]
  },
  {
   "cell_type": "code",
   "execution_count": 110,
   "metadata": {},
   "outputs": [
    {
     "data": {
      "text/plain": [
       "(2,)"
      ]
     },
     "execution_count": 110,
     "metadata": {},
     "output_type": "execute_result"
    }
   ],
   "source": [
    "X[0].shape"
   ]
  },
  {
   "cell_type": "code",
   "execution_count": 111,
   "metadata": {},
   "outputs": [
    {
     "data": {
      "text/plain": [
       "array([[ 1.57276452, -1.73509153],\n",
       "       [ 2.15483553,  1.1740161 ],\n",
       "       [ 0.56838539, -0.76779379],\n",
       "       [ 1.38822515,  0.4933499 ],\n",
       "       [ 0.10258675, -1.50655898],\n",
       "       [ 1.09902894, -1.75446746],\n",
       "       [ 0.37292234, -0.44972639],\n",
       "       [ 1.82587589, -1.09529916],\n",
       "       [ 0.69154821, -0.04883021],\n",
       "       [ 0.42656632, -0.82437449],\n",
       "       [ 1.58117513,  0.03245148]])"
      ]
     },
     "execution_count": 111,
     "metadata": {},
     "output_type": "execute_result"
    }
   ],
   "source": [
    "X[np.where(t==1)]"
   ]
  },
  {
   "cell_type": "code",
   "execution_count": 97,
   "metadata": {},
   "outputs": [
    {
     "data": {
      "text/plain": [
       "array([[-6.90174740e-01,  1.69894418e-01],\n",
       "       [ 5.18902283e-01, -1.49340707e-01],\n",
       "       [ 1.46173789e-01,  5.41317935e-01],\n",
       "       [-5.41451033e-01, -8.27180699e-01],\n",
       "       [ 8.56494403e-01,  3.10457870e-01],\n",
       "       [-5.06150587e-01,  1.36365374e+00],\n",
       "       [-5.29742710e-01, -5.44839133e-01],\n",
       "       [-6.37789813e-01,  1.37690320e+00],\n",
       "       [-2.41627220e+00, -1.54880546e+00],\n",
       "       [ 6.07171679e-01,  2.96584155e-02],\n",
       "       [ 9.50979705e-01,  1.91456636e+00],\n",
       "       [-7.02407184e-01,  5.31072937e-01],\n",
       "       [ 7.65341556e-03, -9.33207677e-01],\n",
       "       [-7.20431538e-01, -1.08331673e+00],\n",
       "       [-1.63272227e-01, -6.71752388e-01],\n",
       "       [-1.34159525e-01, -5.23022596e-01],\n",
       "       [ 6.38635729e-01,  1.23508208e+00],\n",
       "       [-7.64706160e-02,  1.80630009e-01],\n",
       "       [-2.44250833e-03,  9.94552638e-01],\n",
       "       [ 7.66122464e-01,  3.68641571e-01],\n",
       "       [-9.28727786e-01, -9.49299716e-02],\n",
       "       [ 4.04372296e-01,  6.92732344e-01],\n",
       "       [-1.76769933e+00, -1.39000823e-01],\n",
       "       [ 4.48112151e-01, -1.46544634e-01],\n",
       "       [-5.90443621e-01,  7.98177335e-01],\n",
       "       [ 5.70907400e-01,  1.90681234e+00],\n",
       "       [-3.26371455e+00, -2.42011869e-01],\n",
       "       [-4.89726187e-01, -1.36548819e+00],\n",
       "       [-4.92387284e-01,  8.84674580e-01],\n",
       "       [-1.10958231e+00, -6.53654677e-01],\n",
       "       [-7.73038465e-01,  4.20305227e-01],\n",
       "       [ 4.67143832e-01,  7.18256976e-01],\n",
       "       [ 3.72002636e-02,  1.63674439e+00],\n",
       "       [ 4.06779802e-01,  8.83294989e-01],\n",
       "       [-1.23083851e+00,  4.43433826e-01],\n",
       "       [-6.74302289e-01, -2.03490421e-01],\n",
       "       [-3.30864447e-01,  8.09030601e-01],\n",
       "       [ 7.66427381e-01,  8.83234959e-01]])"
      ]
     },
     "execution_count": 97,
     "metadata": {},
     "output_type": "execute_result"
    }
   ],
   "source": [
    "X[np.where(t==0)]"
   ]
  },
  {
   "cell_type": "code",
   "execution_count": null,
   "metadata": {},
   "outputs": [],
   "source": []
  }
 ],
 "metadata": {
  "kernelspec": {
   "display_name": "Python 3",
   "language": "python",
   "name": "python3"
  },
  "language_info": {
   "codemirror_mode": {
    "name": "ipython",
    "version": 3
   },
   "file_extension": ".py",
   "mimetype": "text/x-python",
   "name": "python",
   "nbconvert_exporter": "python",
   "pygments_lexer": "ipython3",
   "version": "3.7.3"
  }
 },
 "nbformat": 4,
 "nbformat_minor": 2
}
